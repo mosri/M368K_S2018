{
 "cells": [
  {
   "cell_type": "markdown",
   "metadata": {},
   "source": [
    "# Fixed point iterations\n",
    "\n",
    "by [Richard Tsai](https://www.researchgate.net/profile/Richard_Tsai3)\n",
    "\n",
    "$f:\\mathbb{R}^d\\mapsto\\mathbb{R}^d$\n",
    "\n",
    "* Need to come up with $g(x)$ such that \n",
    "$$ f(x^*)=0 \\iff x^* = g(x^*) $$\n",
    "\n",
    "* Introduce the fixed point iteration for $g$: $$ x_{k+1} := g(x_k).$$\n",
    "\n",
    "**What should $g(x)$ be?** \n",
    "So that $x_k\\longrightarrow x^*$\n",
    "\n"
   ]
  },
  {
   "cell_type": "markdown",
   "metadata": {},
   "source": [
    "## Linear systems of equations\n",
    "Let $$f(x)=Ax-b,$$\n",
    "where $A$ is an $d\\times d$ invertible matrix, and $x,b$ are two vectors in $\\mathbb{R}^d$.\n",
    "We want to find the solution of $f(x)=0$.\n",
    "\n",
    "Typically, we write the above linear system of equations as \n",
    "$$ Ax =b $$\n",
    "\n",
    "We will consider fixed point iterations with $g(x)=Gx+c$.\n",
    "\n",
    "### General strategy for creating fixed-point iterations for systems by splitting the matrix\n",
    "\n",
    "A general strategy in coming up with fixed point iterations is to *split* $A$ into the sum of two matrices, separate the equations accordingly by the equal sign\n",
    "$$\n",
    "A=M-N \\implies Ax=b \\iff Mx=Nx+b\n",
    "$$\n",
    "and define the iterations\n",
    "$$\n",
    "Mx^{(k+1)} = Nx^{(k)} +b, \n",
    "$$\n",
    "\n",
    "leading to the general form\n",
    "\n",
    "$$x^{(k+1)}=M^{-1}Nx^{(k)}+M^{-1}b \\iff x^{(k+1)}=G x^{(k)}+ c $$\n",
    "\n",
    "**Of course, $M$ has to be very simple and easy to invert.**\n",
    "\n",
    "**Both iterative schemes can be used to solve *nonlinear* equations**\n",
    "\n",
    "** Learniing objective **:\n",
    "* Know how convergence of a fixed point iterations is related to the eigenvalues of the matrices involved\n",
    "\n",
    "\n",
    "## Three fixed point iterations to solve linear systems of equations\n",
    "\n",
    "We first discuss two particular fixed-point iterations (two different $g$'s):\n",
    "\n",
    "* Jacobi iterations (J)\n",
    "* Gauss-Seidel iterations (G-S)\n",
    "* Successive Over Relaxations (SOR): this method builds on top of (G-S)\n",
    "\n",
    "**Learning objectives**:\n",
    "\n",
    "* Know how to write Julia code for the two methods\n",
    "* Know the general convergence theory. \n",
    "    * For this class: Burden and Faires: Lemma 7.18, Theorem 7.19, Theorem 7.21\n"
   ]
  },
  {
   "cell_type": "markdown",
   "metadata": {},
   "source": [
    "### Jacobi iterations\n",
    "\n",
    "In the Jacobi iterations, $M=D$ is the diagonal of $A$ (and $N$ is $A$ with its diagonal culled out): $$G=G_J:=D^{-1}(L+U)$$ \n",
    "\n",
    "$$x^{(k+1)}=G_{J} x^{(k)}+ c_{J}$$\n",
    "\n",
    "* **Very easy parallelization**\n",
    "\n",
    "\n",
    "$$ \n",
    "a_{11} \\mathbf{x_1^{(k+1)}} + a_{12} x_2^{(k)}+a_{13} x_3^{(k)}+...+a_{1n} x_n^{(k)}=b_1 \n",
    "$$\n",
    "\n",
    "$$ \n",
    "a_{21} x_1^{(k)} + a_{22} \\mathbf{x_2^{(k+1)}}+a_{13} x_3^{(k)}+...+a_{1n} x_n^{(k)}=b_2 \n",
    "$$\n",
    "\n",
    "$$\\vdots$$\n",
    "\n",
    "\n",
    "Solving nonlinear equations: $ f_1(x) = 0,f_2(x)=0,...,f_n(x)=0, x=(x_1,x_2,...,x_n) $\n",
    "\n",
    "$$ f_1(\\mathbf{x_1^{(k+1)}}, x_2^{(k)}, ..., x_n^{(k)})=0 $$\n",
    "$$ f_2({x_1^{(k)}}, \\mathbf{x_2^{(k+1)}}, ..., x_n^{(k)})=0 $$\n",
    "$$\\vdots$$"
   ]
  },
  {
   "cell_type": "code",
   "execution_count": 1,
   "metadata": {},
   "outputs": [
    {
     "name": "stdout",
     "output_type": "stream",
     "text": [
      "[-0.161604, -0.293657, -0.049588]\n",
      "[0.173608, 0.129596, 0.235815]\n",
      "[0.00333625, -0.0739547, -0.0658961]\n",
      "[0.13456, 0.0921354, 0.0825413]\n",
      "[0.0568105, -0.00223245, -0.0357369]\n",
      "[0.111168, 0.065812, 0.0326414]\n",
      "[0.0770452, 0.0239654, -0.0160352]\n",
      "[0.100017, 0.0525354, 0.0141558]\n",
      "[0.0852462, 0.034333, -0.00633711]\n",
      "[0.0950345, 0.0464692, 0.00676908]\n",
      "[0.0886754, 0.0386165, -0.00194712]\n",
      "[0.0928608, 0.0437987, 0.0037021]\n",
      "[0.0901296, 0.0404229, -2.18793e-5]\n",
      "[0.091922, 0.0426409, 0.00240575]\n",
      "[0.0907501, 0.0411918, 0.000811544]\n",
      "[0.0915182, 0.042142, 0.0018534]\n",
      "[0.0910156, 0.0415205, 0.00117035]\n",
      "[0.0913448, 0.0419277, 0.00161722]\n",
      "[0.0911293, 0.0416612, 0.00132446]\n",
      "[0.0912704, 0.0418357, 0.00151609]\n",
      "[0.091178, 0.0417215, 0.00139058]\n",
      "[0.0912385, 0.0417963, 0.00147275]\n",
      "[0.0911989, 0.0417473, 0.00141894]\n",
      "[0.0912249, 0.0417794, 0.00145417]\n",
      "[0.0912079, 0.0417584, 0.0014311]\n",
      "\n",
      "Checking the residual: [-0.000111221, -0.00020635, -0.000286973]\n"
     ]
    }
   ],
   "source": [
    "#Example: Jacobi iterations\n",
    "\n",
    "A=[10. 2. 3.; 4. 15. 6.; 7. 8. 19.]\n",
    "\n",
    "#What happens if the diagonal elements are smaller, but A is still invertible?\n",
    "#A=[1. 2. 3.; 4. 5. 6.; 7. 8. 19.]\n",
    "\n",
    "\n",
    "M=zeros(3,3)\n",
    "\n",
    "M=diagm( diag(A),0)\n",
    "\n",
    "N=M-A\n",
    "\n",
    "Minv = inv(M)\n",
    "\n",
    "b=ones(3)\n",
    "x=rand(3)\n",
    "\n",
    "#the following for-loop is only for illustrating teh concept of Jacobi iteration\n",
    "#in practice, one should never allocate memory for M or Minv\n",
    "for k=1:25\n",
    "   x = Minv*(N*x+b) \n",
    "   println(x)\n",
    "end\n",
    "\n",
    "println(\"\\nChecking the residual: \", A*x-b)"
   ]
  },
  {
   "cell_type": "code",
   "execution_count": 2,
   "metadata": {},
   "outputs": [
    {
     "name": "stdout",
     "output_type": "stream",
     "text": [
      "The eigenvalues of Minv*N is important. \n"
     ]
    },
    {
     "data": {
      "text/plain": [
       "3-element Array{Float64,1}:\n",
       " -0.65478 \n",
       "  0.223815\n",
       "  0.430965"
      ]
     },
     "execution_count": 2,
     "metadata": {},
     "output_type": "execute_result"
    }
   ],
   "source": [
    "println(\"The eigenvalues of Minv*N is important. \")\n",
    "eigvals(Minv*N)"
   ]
  },
  {
   "cell_type": "code",
   "execution_count": 3,
   "metadata": {},
   "outputs": [
    {
     "data": {
      "text/plain": [
       "JacobiIterations! (generic function with 1 method)"
      ]
     },
     "execution_count": 3,
     "metadata": {},
     "output_type": "execute_result"
    }
   ],
   "source": [
    "#a more appropirate way to implementing the JAcobi iterations\n",
    "function JacobiIterations!(x, A, b, numitrs)\n",
    "   \n",
    "   xnext=copy(x)\n",
    "   sum=0.0\n",
    "    \n",
    "   for itr=1:numitrs \n",
    "   for i=1:size(A,1)\n",
    "        sum=0.0\n",
    "        for j in [1:i-1; i+1:size(A,2)]\n",
    "            sum+=A[i,j]*x[j]\n",
    "        end\n",
    "        xnext[i] = (b[i]-sum)/A[i,i]\n",
    "   end\n",
    "    \n",
    "   x.=xnext\n",
    "   #println(itr,\": \", x)\n",
    "   end \n",
    "end\n",
    "\n",
    "\n",
    "function JacobiIterations!(x, A, b, tol; max_itrs=100000)\n",
    "   \n",
    "   xnext=rand(size(x))\n",
    "   sum=0.0\n",
    "\n",
    "   itr=0\n",
    "    \n",
    "   while norm(xnext-x)>tol && itr<max_itrs\n",
    "        x.=xnext\n",
    "        \n",
    "    for i=1:size(A,1)\n",
    "        sum=0.0\n",
    "        for j in [1:i-1; i+1:size(A,2)]\n",
    "            sum+=A[i,j]*x[j]\n",
    "        end\n",
    "        xnext[i] = (b[i]-sum)/A[i,i]\n",
    "    end\n",
    "   itr+=1\n",
    "   end \n",
    "    \n",
    "   println(\"Jacobi finishes in \",itr,\" iterations.\")\n",
    "\n",
    "end"
   ]
  },
  {
   "cell_type": "code",
   "execution_count": 4,
   "metadata": {},
   "outputs": [
    {
     "name": "stdout",
     "output_type": "stream",
     "text": [
      "Jacobi finishes in 0 iterations.\n",
      "[0.0306215, 0.98599, 0.363916]\n",
      "[2.36994, 16.0958, 14.0167]\n"
     ]
    }
   ],
   "source": [
    "x=rand(3)\n",
    "\n",
    "JacobiIterations!(x, A, b, 25)\n",
    "\n",
    "println(x)\n",
    "println(A*x-b)"
   ]
  },
  {
   "cell_type": "markdown",
   "metadata": {},
   "source": [
    "### Gauss-Seidel iterations\n",
    "\n",
    "In the Gauss-Seidel iterations, $M$ is the lower triangular part of $A$ (including the diagonal)\n",
    "\n",
    "$$ A= D-L-U, M=D-L, N=U \\implies G_{GS}:=(D-L)^{-1}U$$\n",
    "\n",
    "$$x^{(k+1)}=G_{GS} x^{(k)}+ c_{GS}$$\n",
    "\n",
    "* This algorithm is of **sequential nature**:\n",
    "    * Solve for first variable, $x_1$ in the first equation, using the previous guess for all other variables    \n",
    "$$ \n",
    "a_{11} \\mathbf{x_1} + a_{12} x_2^{(k)}+a_{13} x_3^{(k)}+...+a_{1n} x_n^{(k)}=b_1 \n",
    "$$\n",
    "    Obtain the value of $\\mathbf{x_1^{(k+1)}}$.\n",
    "    \n",
    "    * Solve for the second variable, $x_2$, in the second equation, using the value $\\mathbf{x_1^{(k+1)}}$, and the previous guess for all other variables\n",
    "$$ \n",
    "a_{21} \\mathbf{x_1^{(k+1)}} + a_{22} \\mathbf{x_2}+a_{13} x_3^{(k)}+...+a_{1n} x_n^{(k)}=b_2 \n",
    "$$\n",
    "    Obtain the value of $\\mathbf{x_2^{(k+1)}}$.\n",
    "$$ \\vdots$$\n",
    "\n",
    "Solving nonlinear equations: $ f_1(x) = 0,f_2(x)=0,...,f_n(x)=0, x=(x_1,x_2,...,x_n) $\n",
    "\n",
    "$$ f_1(\\mathbf{x_1^{(k+1)}}, x_2^{(k)}, ..., x_n^{(k)})=0 $$\n",
    "$$ f_2(\\mathbf{x_1^{(k+1)}}, \\mathbf{x_2^{(k+1)}}, ..., x_n^{(k)})=0 $$\n",
    "$$\\vdots$$"
   ]
  },
  {
   "cell_type": "code",
   "execution_count": 5,
   "metadata": {},
   "outputs": [
    {
     "data": {
      "text/plain": [
       "GaussSeidelIterations! (generic function with 1 method)"
      ]
     },
     "execution_count": 5,
     "metadata": {},
     "output_type": "execute_result"
    }
   ],
   "source": [
    "function GaussSeidelIterations!(x, A, b, tol; max_itrs=100000)\n",
    "   \n",
    "   sum=0.0\n",
    "   itr=0\n",
    "   xold=rand(size(x))\n",
    "    \n",
    "   while norm(xold-x)>tol && itr<max_itrs #for itr=1:numitrs \n",
    "    xold.=x\n",
    "    for i=1:size(A,1)\n",
    "        sum=0.0\n",
    "            for j in [1:i-1; i+1:size(A,2)]\n",
    "            sum+=A[i,j]*x[j]\n",
    "        end\n",
    "        x[i] = (b[i]-sum)/A[i,i]\n",
    "    end\n",
    "    itr+=1\n",
    "   end\n",
    "   \n",
    "   println(\"Gauss-Seidel finishes in \",itr,\" iterations.\")\n",
    "end"
   ]
  },
  {
   "cell_type": "markdown",
   "metadata": {},
   "source": [
    "### Gauss-Seidel is faster than Jacobi"
   ]
  },
  {
   "cell_type": "code",
   "execution_count": 6,
   "metadata": {},
   "outputs": [
    {
     "name": "stdout",
     "output_type": "stream",
     "text": [
      "Gauss-Seidel finishes in 10 iterations.\n",
      "[0.0912146, 0.0417667, 0.00144021]\n",
      "[-1.38889e-7, 6.43824e-7, 0.0]\n",
      "\n",
      "Jacobi finishes in 36 iterations.\n",
      "[0.0912144, 0.0417664, 0.00143994]\n",
      "[-3.51563e-6, -6.52255e-6, -9.07119e-6]\n"
     ]
    }
   ],
   "source": [
    "x0=rand(3)\n",
    "\n",
    "x=copy(x0)\n",
    "GaussSeidelIterations!(x, A, b, 0.000001)\n",
    "\n",
    "println(x)\n",
    "println(A*x-b,\"\\n\")\n",
    "\n",
    "x=copy(x0)\n",
    "JacobiIterations!(x, A, b, 0.000001)\n",
    "\n",
    "println(x)\n",
    "println(A*x-b)\n"
   ]
  },
  {
   "cell_type": "markdown",
   "metadata": {},
   "source": [
    "## Successive over relaxation (SOR)\n",
    "\n",
    "SOR is obtained by *averaging* the Gauss-Seidel update, $x^{(k+1)}_{GS}$, with the approximation computed in the previous iteration, $x^{(k)}$:\n",
    "\n",
    "$$ x^{(k+1)}_{SOR}:= \\omega x^{(k+1)}_{GS}+(1-\\omega) x^{(k)}. $$\n",
    "\n",
    "\n",
    "Three important theorems about SOR:\n",
    "\n",
    "Theorem (Kahan): Let $a_{ii}\\neq 0, i=1,2,\\cdots,n$. **If SOR converges, then $0<\\omega<2$.**\n",
    "\n",
    "Theorem (Ostrowski-Reich): **SOR converges for all $0<\\omega<2$ iff $A$ is invertible, symmetric, positive definite.**\n",
    "\n",
    "**Choose $\\omega$ to make $\\rho(G_{SOR})$ as small as possible.**\n",
    "\n",
    "* This was pioneered by David Young, here at UT Ausitn in 1950'\n",
    "\n",
    "Theorem (Young): $\\omega_{opt}$ as a function of $\\rho(G_J)$.\n",
    "\n",
    "For more in-depth exposition about the choice of $\\omega$, check out GGK, Sec 11.3.4.\n",
    "\n",
    "## Symmetric Successive over relaxation (SSOR)\n",
    "\n",
    "Involves two SOR updates:\n",
    "\n",
    "* One SOR step in which the G-S update involves solving each row of the linear system in **increasing order** (row 1, than row 2,..., row n). \n",
    "    * In other words, the G-S iteration is defined by $A=D-L-U=M-N$, with $M=D-L$.\n",
    "\n",
    "* One SOR step in which the G-S update involves solving each row of the linear system in **decreasing order** (row n, than row (n-1),..., row 1).\n",
    "    * In other words, the G-S iteration is defined by $A=D-L-U=M-N$, with $M=D-U$."
   ]
  },
  {
   "cell_type": "code",
   "execution_count": 7,
   "metadata": {},
   "outputs": [
    {
     "data": {
      "text/plain": [
       "SOR! (generic function with 1 method)"
      ]
     },
     "execution_count": 7,
     "metadata": {},
     "output_type": "execute_result"
    }
   ],
   "source": [
    "function SOR!(x, A, b, ω, tol; max_itrs=100000)\n",
    "   \n",
    "   sum=0.0\n",
    "   itr=0\n",
    "   xold=rand(size(x))\n",
    "    \n",
    "   diff=xold-x\n",
    "    \n",
    "   while norm(diff)>tol && itr<max_itrs \n",
    "    xold.=x\n",
    "    for i=1:size(A,1)\n",
    "        sum=0.0\n",
    "        for j=1:i-1 \n",
    "            sum+=A[i,j]*x[j]\n",
    "        end\n",
    "        for j=i+1:size(A,2) \n",
    "            sum+=A[i,j]*x[j]\n",
    "        end\n",
    "\n",
    "        x[i] = ω*(b[i]-sum)/A[i,i]+(1.0-ω)*xold[i]\n",
    "    end\n",
    "    diff.=xold.-x\n",
    "    itr+=1\n",
    "   end\n",
    "   \n",
    "   println(\"SOR finishes in \",itr,\" iterations.\")\n",
    "end"
   ]
  },
  {
   "cell_type": "code",
   "execution_count": 8,
   "metadata": {},
   "outputs": [
    {
     "name": "stdout",
     "output_type": "stream",
     "text": [
      "Gauss-Seidel finishes in 24 iterations.\n",
      "[0.171247, 0.0528541, -0.0443975]\n",
      "[-7.40741e-13, -2.06857e-12, 0.0]\n",
      "\n",
      "Jacobi finishes in 485 iterations.\n",
      "[0.171247, 0.0528541, -0.0443975]\n",
      "[3.15925e-12, 6.17173e-12, 8.66729e-12]\n",
      "\n",
      "SOR finishes in 50 iterations.\n",
      "  0.101188 seconds (36.02 k allocations: 1.548 MiB)\n",
      "[0.171247, 0.0528541, -0.0443975]\n",
      "[-9.62452e-13, -6.09579e-12, 2.88547e-12]\n",
      "\n"
     ]
    }
   ],
   "source": [
    "#Example: Jacobi iterations\n",
    "\n",
    "A=[6. 2. 3.; 4. 11. 6.; 7. 8. 14.]\n",
    "\n",
    "\n",
    "M=zeros(3,3)\n",
    "\n",
    "M=diagm( diag(A),0)\n",
    "\n",
    "N=M-A\n",
    "\n",
    "Minv = inv(M)\n",
    "\n",
    "tol=1e-12\n",
    "\n",
    "b=ones(3)\n",
    "x=rand(3)\n",
    "\n",
    "x0=rand(3)\n",
    "\n",
    "x=copy(x0)\n",
    "GaussSeidelIterations!(x, A, b, tol)\n",
    "\n",
    "println(x)\n",
    "println(A*x-b,\"\\n\")\n",
    "\n",
    "x=copy(x0)\n",
    "JacobiIterations!(x, A, b, tol)\n",
    "\n",
    "println(x)\n",
    "println(A*x-b,\"\\n\")\n",
    "\n",
    "#SOR with non-optimal weight\n",
    "x=copy(x0)\n",
    "@time SOR!(x, A, b, 0.75, tol)\n",
    "\n",
    "println(x)\n",
    "println(A*x-b,\"\\n\")"
   ]
  },
  {
   "cell_type": "markdown",
   "metadata": {},
   "source": [
    "### Example: solving a two-point boundary value problem for Poisson's equation\n",
    "\n",
    "$$ -u_{xx} =f(x),~~~0<x<1,~~~u(0)=u(1)=0 $$\n",
    "\n",
    "* Discretize the unit interval: $x_j = j\\Delta x, j=0,1,2,\\cdots,N,\\Delta x =1/N$\n",
    "\n",
    "* Approximate the differential equation on the grid nodes:\n",
    "    $$ -u_{xx} (x_j)=f(x_j) \\approx -(u_{j+1}-2u_j+u_{j-1})/\\Delta x^2 = f(x_j),~~~j=1,2,\\cdots,N-1 $$\n",
    "\n",
    "* Set the boundary conditions: $u_0=0=u_N$.\n",
    "\n",
    "This leads to a linear system to solve: $AU=F$."
   ]
  },
  {
   "cell_type": "code",
   "execution_count": 9,
   "metadata": {},
   "outputs": [
    {
     "name": "stdout",
     "output_type": "stream",
     "text": [
      "  0.682930 seconds (257.98 k allocations: 13.603 MiB, 0.87% gc time)\n",
      "\n",
      "\n",
      "Gauss-Seidel finishes in 4494 iterations.\n",
      "  0.210010 seconds (683.78 k allocations: 131.004 MiB, 6.99% gc time)\n",
      "\n",
      "\n",
      "Jacobi finishes in 11250 iterations.\n",
      "  0.405807 seconds (1.68 M allocations: 326.109 MiB, 3.64% gc time)\n",
      "\n",
      "\n",
      "SOR finishes in 1580 iterations.\n",
      "  0.125506 seconds (26.05 k allocations: 1.146 MiB)\n",
      "λ_J = 0.9980267284282716\n",
      "\n",
      "optimal ω for this case is 1.8818383898322273\n",
      "\n",
      "SOR finishes in 1123 iterations.\n",
      "  0.032533 seconds (61 allocations: 2.938 KiB)\n"
     ]
    }
   ],
   "source": [
    "N=50\n",
    "xgrid=linspace(0,1,N+1)\n",
    "Δx=1/N\n",
    "\n",
    "f=x-> 1.0 #x.^2+0.0*sin(20*x)\n",
    "\n",
    "#The vector U stores (u1,u2,u3,cdots, u_(N-1))\n",
    "U=zeros(N-1)\n",
    "\n",
    "#N-2 because we exclude x=0 and X=1.\n",
    "A=spdiagm( (-ones(N-2), 2.0*ones(N-1),-ones(N-2)), [-1,0,1])\n",
    "#A=-2.*diagm(ones(N-1))+diagm(ones(N-2),1)+diagm(ones(N-2),-1)\n",
    "F=collect(f.(xgrid[2:end-1]))\n",
    "\n",
    "b=F.*Δx^2\n",
    "\n",
    "@time U=-A\\b\n",
    "\n",
    "Ugs=copy(U)\n",
    "Uj=copy(U)\n",
    "Usor=copy(U)\n",
    "\n",
    "println(\"\\n\")\n",
    "@time GaussSeidelIterations!(Ugs, A, b, 1e-10)\n",
    "\n",
    "println(\"\\n\")\n",
    "@time JacobiIterations!(Uj, A, b, 1e-10)\n",
    "\n",
    "println(\"\\n\")\n",
    "@time SOR!(Usor, A, b, 1.5, 1e-10)\n",
    "\n",
    "M=diagm(diag(A),0)\n",
    "N=M-A\n",
    "λ=svdvals(M\\N)\n",
    "ωopt=2.0/(1.0+sqrt(1.0-λ[1]^2))\n",
    "\n",
    "println(\"λ_J = \", λ[1],\"\\n\")\n",
    "println(\"optimal ω for this case is \", ωopt,\"\\n\")\n",
    "Usor=copy(U)\n",
    "@time SOR!(Usor, A, b, ωopt-0.2, tol)"
   ]
  },
  {
   "cell_type": "code",
   "execution_count": 10,
   "metadata": {},
   "outputs": [
    {
     "name": "stderr",
     "output_type": "stream",
     "text": [
      "\u001b[1m\u001b[36mINFO: \u001b[39m\u001b[22m\u001b[36mRecompiling stale cache file /Users/ytsai/.julia/lib/v0.6/PyPlot.ji for module PyPlot.\n",
      "\u001b[39m"
     ]
    },
    {
     "data": {
      "image/png": "[encoded data removed]",
      "text/plain": [
       "PyPlot.Figure(PyObject <matplotlib.figure.Figure object at 0x128596fd0>)"
      ]
     },
     "metadata": {},
     "output_type": "display_data"
    },
    {
     "data": {
      "text/plain": [
       "1-element Array{PyCall.PyObject,1}:\n",
       " PyObject <matplotlib.lines.Line2D object at 0x12d5c83d0>"
      ]
     },
     "execution_count": 10,
     "metadata": {},
     "output_type": "execute_result"
    }
   ],
   "source": [
    "using PyPlot\n",
    "\n",
    "plot(xgrid[2:end-1], U)"
   ]
  },
  {
   "cell_type": "markdown",
   "metadata": {},
   "source": [
    "### Poisson equation in three dimensions\n",
    "\n",
    "$$-(u_{xx}+u_{yy}+u_{zz})=f(x,y,z),~~~0<x,y,z<1$$\n",
    "\n",
    "with zero Dirichlet boundary conditions."
   ]
  },
  {
   "cell_type": "code",
   "execution_count": 49,
   "metadata": {},
   "outputs": [
    {
     "data": {
      "image/png": "[encoded data removed]",
      "text/plain": [
       "PyPlot.Figure(PyObject <matplotlib.figure.Figure object at 0x136e6e6d0>)"
      ]
     },
     "metadata": {},
     "output_type": "display_data"
    },
    {
     "data": {
      "text/plain": [
       "PyObject <matplotlib.image.AxesImage object at 0x13a272090>"
      ]
     },
     "execution_count": 49,
     "metadata": {},
     "output_type": "execute_result"
    }
   ],
   "source": [
    "N=5\n",
    "xgrid=linspace(0,1,N+1)\n",
    "Δx=1/N\n",
    "\n",
    "#assemling the finite different operator for the left hand side of the PDE\n",
    "T=spdiagm( (-ones(N-2), 2.0*ones(N-1),-ones(N-2)), [-1,0,1])\n",
    "I=speye(N-1,N-1)\n",
    "\n",
    "A=kron(T,I)+kron(I,T)\n",
    "\n",
    "using PyPlot\n",
    "spy(A)"
   ]
  },
  {
   "cell_type": "code",
   "execution_count": 46,
   "metadata": {},
   "outputs": [
    {
     "data": {
      "image/png": "[encoded data removed]",
      "text/plain": [
       "PyPlot.Figure(PyObject <matplotlib.figure.Figure object at 0x11842ba90>)"
      ]
     },
     "metadata": {},
     "output_type": "display_data"
    },
    {
     "data": {
      "text/plain": [
       "PyObject <matplotlib.image.AxesImage object at 0x136ba9390>"
      ]
     },
     "execution_count": 46,
     "metadata": {},
     "output_type": "execute_result"
    }
   ],
   "source": [
    "A=kron(kron(T,I),I)+ kron(I,kron(I,T))+ kron(kron(I,T),I)\n",
    "\n",
    "size(A)\n",
    "\n",
    "using PyPlot\n",
    "spy(A)"
   ]
  },
  {
   "cell_type": "code",
   "execution_count": 51,
   "metadata": {},
   "outputs": [
    {
     "name": "stdout",
     "output_type": "stream",
     "text": [
      "size of the matrix:(970299, 970299)\n",
      "Optimal direct solver: \n",
      "183.711107 seconds (65 allocations: 20.119 GiB, 0.14% gc time)\n",
      "\n",
      "\n",
      "\n",
      "\n",
      "\n",
      "\n"
     ]
    }
   ],
   "source": [
    "N=100\n",
    "xgrid=linspace(0,1,N+1)\n",
    "Δx=1/N\n",
    "\n",
    "f=(x,y)-> x.^2+y+z.^2\n",
    "\n",
    "#assemling the finite different operator for the left hand side of the PDE\n",
    "T=spdiagm( (-ones(N-2), 2.0*ones(N-1),-ones(N-2)), [-1,0,1])\n",
    "I=speye(N-1,N-1)\n",
    "\n",
    "#discretize the Laplace operator in 2D\n",
    "#A=kron(T,I)+kron(I,T)\n",
    "\n",
    "#discretize the Laplace operator in 3D\n",
    "A=kron(kron(T,I),I)+ kron(I,kron(I,T))+ kron(kron(I,T),I)\n",
    "\n",
    "F=ones(size(A,1))\n",
    "\n",
    "b=F.*Δx^2\n",
    "\n",
    "U=copy(F)\n",
    "Uj=copy(F)\n",
    "Ugs=copy(F)\n",
    "Usor=copy(F)\n",
    "\n",
    "println(\"size of the matrix:\", size(A))\n",
    "\n",
    "println(\"Optimal direct solver: \")\n",
    "@time U=A\\b\n",
    "\n",
    "#println(\"LU:\")\n",
    "#F=lufact(A)\n",
    "#@time U=inv(F[:U])*inv(F[:L])*b\n",
    "\n",
    "println(\"\\n\")\n",
    "#@time GaussSeidelIterations!(Ugs, A, b, 1e-12)\n",
    "\n",
    "println(\"\\n\")\n",
    "#@time JacobiIterations!(Uj, A, b, 1e-12)\n",
    "\n",
    "println(\"\\n\")\n",
    "#@time SOR!(Usor, A, b, 1.5, 1e-12)"
   ]
  },
  {
   "cell_type": "markdown",
   "metadata": {
    "collapsed": true
   },
   "source": [
    "## Convergence of iterative algorithms\n",
    "\n",
    "* linearly convergent algorithms: (**the error in the next step is a linear function of the current error**)\n",
    "$$ e_{n+1} = a e_n $$\n",
    "    \n",
    "    * number of correct digits is a linear function of the number of iterations: $$ \\textrm{num of accurate digits} = \\alpha_0 n $$\n",
    "\n",
    "\n",
    "* quadratically convergent algorithms: (**the error in the next step is a quadratic function of the current error**)\n",
    "$$ e_{n+1} = a e_n^2 $$\n",
    "\n",
    "    * number of correct digits doubles after each iterations: $$ \\textrm{num of accurate digits} = \\alpha_1 2^n$$\n",
    "\n",
    "\n",
    "* p-th order convergent algorithms:\n",
    "$$ e_{n+1} = a e_n^p $$\n",
    "\n",
    "### Possible confusion with ***order of accuracy***\n",
    "\n",
    "(For linearly convergent algorithms)\n",
    "$$e_n \\le Const\\cdot \\frac{1}{n^p}$$\n",
    "\n",
    "**p-th order accurate algorithm**."
   ]
  },
  {
   "cell_type": "markdown",
   "metadata": {},
   "source": [
    "## The conjugate gradient (CG) method of Hestenes and Stiefel (1952)\n",
    "\n",
    "$$Ax=b$$\n",
    "* It is optimal for symmetric positive definite systems: $A^T =A,~~~x^TAx>0,~\\forall x\\neq 0$\n",
    "* It is a type of **Krylov methods**\n",
    "* In each iteration, say iteration $k$, the algorithm chooses the next guess, $x^{(k+1)}$, by \n",
    "  * minimizes the residual, $r^{(k+1)}:=b-Ax^{(k+1)}$, \n",
    "  * in a special norm built from $A$ and $x^{(j)},j=1,2,\\cdots,k$.\n",
    "* Very simple, elegant and fast algorithm.\n",
    "\n",
    "* We have seen that solving teh model Poisson's problem in 1 and 2 dimenions, the backlash operator is faster than CG. But the situation changes when we solve the Poisson's equation in 3D, for which the matrix has more strides away from teh diagonal.\n",
    "\n",
    "* See Algorithm 11.15 in GGK or this workbook (instead of BF) for a more comprehensive view of teh CG algorithm.\n",
    "\n",
    "**Learning objectives**:\n",
    "\n",
    "* Know when CG is applicable\n",
    "* Theorem 7.31 in Burden and Faires: Under which conditions will solving the given linear system be equivalent to solving a related minimization problem.\n",
    "    * This theorem provides a hint to the \"G\" in CG.\n",
    "    * Know how to formula the method of steepest descent for the minimization problem\n",
    "* Theorem 7.32\n",
    "* Have some idea how Theorems 7.31-7.32 are related to CG."
   ]
  },
  {
   "cell_type": "code",
   "execution_count": 33,
   "metadata": {},
   "outputs": [
    {
     "data": {
      "text/plain": [
       "CG (generic function with 2 methods)"
      ]
     },
     "execution_count": 33,
     "metadata": {},
     "output_type": "execute_result"
    }
   ],
   "source": [
    "CG(A,b;kwargs...) = CG(x -> A*x,b;kwargs...)\n",
    "    \n",
    "function CG(A::Function, b; tol=1e-2, maxItr=1000)\n",
    "\n",
    "    n = length(b)\n",
    "\n",
    "    #initial guess\n",
    "    x=zeros(n)\n",
    "    \n",
    "    #initial residual\n",
    "    r=b-A(x)\n",
    "\n",
    "    p = copy(r)\n",
    "    \n",
    "    res0  = norm(r)\n",
    "\n",
    "    itr   = 1 \n",
    "    \n",
    "    for itr=1:maxItr\n",
    "        Ap = A(p)\n",
    "        pAp= dot(p,Ap)\n",
    "        α  = dot(r,p)/pAp\n",
    "\n",
    "        #update the approximate solution\n",
    "        x.+=α.*p\n",
    "        \n",
    "        #update the residual vector\n",
    "        r.-=α.*Ap\n",
    "            \n",
    "        #break the loop when tolerance is met\n",
    "        if norm(r)/res0 <= tol\n",
    "            break\n",
    "        end\n",
    "\n",
    "        #update search direction\n",
    "        β = -dot(Ap,r)/pAp           \n",
    "        p.=r.+β.*p\n",
    "    end\n",
    "\n",
    "    println(\"cg termines after \", itr, \" steps, with residual=\", norm(r))\n",
    "end"
   ]
  },
  {
   "cell_type": "code",
   "execution_count": 53,
   "metadata": {},
   "outputs": [
    {
     "name": "stdout",
     "output_type": "stream",
     "text": [
      "cg termines after 371 steps, with residual=9.207057234407962e-16\n",
      "  7.314909 seconds (938 allocations: 2.711 GiB, 3.09% gc time)\n"
     ]
    }
   ],
   "source": [
    "@time uu=CG(A,b, tol=1e-14)"
   ]
  },
  {
   "cell_type": "code",
   "execution_count": 6,
   "metadata": {
    "collapsed": true
   },
   "outputs": [],
   "source": [
    "using KrylovMethods"
   ]
  },
  {
   "cell_type": "code",
   "execution_count": 54,
   "metadata": {},
   "outputs": [
    {
     "name": "stdout",
     "output_type": "stream",
     "text": [
      "cg achieved desired tolerance at iteration 279. Residual norm is 9.69e-11.\n",
      "  4.136621 seconds (663 allocations: 29.637 MiB, 0.10% gc time)\n",
      "cg achieved desired tolerance at iteration 371. Residual norm is 9.21e-15.\n",
      "  5.491275 seconds (894 allocations: 29.650 MiB, 0.02% gc time)\n"
     ]
    },
    {
     "data": {
      "text/plain": [
       "(970299, 970299)"
      ]
     },
     "execution_count": 54,
     "metadata": {},
     "output_type": "execute_result"
    }
   ],
   "source": [
    "@time uu=KrylovMethods.cg(A, b, tol=1e-10, maxIter=1500, out=1);\n",
    "\n",
    "@time uu=KrylovMethods.cg(A, b, tol=1e-10, maxIter=1500, out=1);\n",
    "\n",
    "@time uu=KrylovMethods.cg(A, b, tol=1e-14, maxIter=1500, out=1);\n",
    "\n",
    "size(A)"
   ]
  },
  {
   "cell_type": "code",
   "execution_count": 1,
   "metadata": {},
   "outputs": [
    {
     "data": {
      "text/plain": [
       "5×5 Array{Float64,2}:\n",
       " 0.1  1.0  0.0  0.0  0.0\n",
       " 0.0  0.1  1.0  0.0  0.0\n",
       " 0.0  0.0  0.1  1.0  0.0\n",
       " 0.0  0.0  0.0  0.1  1.0\n",
       " 0.0  0.0  0.0  0.0  0.1"
      ]
     },
     "execution_count": 1,
     "metadata": {},
     "output_type": "execute_result"
    }
   ],
   "source": [
    "J=diagm(0.1*ones(5))+diagm(ones(4),1)"
   ]
  },
  {
   "cell_type": "code",
   "execution_count": 7,
   "metadata": {},
   "outputs": [
    {
     "data": {
      "text/plain": [
       "5×5 Array{Float64,2}:\n",
       " 0.01  0.2   1.0   0.0   0.0 \n",
       " 0.0   0.01  0.2   1.0   0.0 \n",
       " 0.0   0.0   0.01  0.2   1.0 \n",
       " 0.0   0.0   0.0   0.01  0.2 \n",
       " 0.0   0.0   0.0   0.0   0.01"
      ]
     },
     "execution_count": 7,
     "metadata": {},
     "output_type": "execute_result"
    }
   ],
   "source": [
    "J^2"
   ]
  },
  {
   "cell_type": "code",
   "execution_count": 8,
   "metadata": {},
   "outputs": [
    {
     "data": {
      "text/plain": [
       "5×5 Array{Float64,2}:\n",
       " 0.001  0.03   0.3    1.0    0.0  \n",
       " 0.0    0.001  0.03   0.3    1.0  \n",
       " 0.0    0.0    0.001  0.03   0.3  \n",
       " 0.0    0.0    0.0    0.001  0.03 \n",
       " 0.0    0.0    0.0    0.0    0.001"
      ]
     },
     "execution_count": 8,
     "metadata": {},
     "output_type": "execute_result"
    }
   ],
   "source": [
    "J^3"
   ]
  },
  {
   "cell_type": "code",
   "execution_count": 4,
   "metadata": {},
   "outputs": [
    {
     "data": {
      "text/plain": [
       "5×5 Array{Float64,2}:\n",
       " 0.0001  0.004   0.06    0.4     1.0   \n",
       " 0.0     0.0001  0.004   0.06    0.4   \n",
       " 0.0     0.0     0.0001  0.004   0.06  \n",
       " 0.0     0.0     0.0     0.0001  0.004 \n",
       " 0.0     0.0     0.0     0.0     0.0001"
      ]
     },
     "execution_count": 4,
     "metadata": {},
     "output_type": "execute_result"
    }
   ],
   "source": [
    "J^4"
   ]
  },
  {
   "cell_type": "code",
   "execution_count": null,
   "metadata": {
    "collapsed": true
   },
   "outputs": [],
   "source": []
  }
 ],
 "metadata": {
  "anaconda-cloud": {},
  "kernelspec": {
   "display_name": "Julia 0.6.2",
   "language": "julia",
   "name": "julia-0.6"
  },
  "language_info": {
   "file_extension": ".jl",
   "mimetype": "application/julia",
   "name": "julia",
   "version": "0.6.2"
  }
 },
 "nbformat": 4,
 "nbformat_minor": 1
}
