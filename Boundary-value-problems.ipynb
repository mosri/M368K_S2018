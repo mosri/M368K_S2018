{
 "cells": [
  {
   "cell_type": "markdown",
   "metadata": {},
   "source": [
    "# Boundary value problems\n",
    "\n",
    "by [Richard Tsai](https://www.researchgate.net/profile/Richard_Tsai3)\n",
    "\n",
    "We discuss the accuracy of the finite difference approximations the Dirichlet problem for Poisson's equation."
   ]
  },
  {
   "cell_type": "markdown",
   "metadata": {},
   "source": [
    "### Example: solving a two-point boundary value problem for Poisson's equation\n",
    "\n",
    "$$ -u_{xx} =f(x),~~~0<x<1,~~~u(0)=u(1)=0 $$\n",
    "\n",
    "* Discretize the unit interval: $x_j = j\\Delta x, j=0,1,2,\\cdots,N,\\Delta x =1/N$\n",
    "\n",
    "* Approximate the differential equation on the grid nodes:\n",
    "    $$ -u_{xx} (x_j)=f(x_j) \\approx -(u_{j+1}-2u_j+u_{j-1})/\\Delta x^2 = f(x_j),~~~j=1,2,\\cdots,N-1 $$\n",
    "\n",
    "* Set the boundary conditions: $u_0=0=u_N$.\n",
    "\n",
    "This leads to a linear system to solve: $AU=F$."
   ]
  },
  {
   "cell_type": "code",
   "execution_count": null,
   "metadata": {
    "collapsed": true
   },
   "outputs": [],
   "source": [
    "N=50\n",
    "xgrid=linspace(0,1,N+1)\n",
    "Δx=1/N\n",
    "\n",
    "f=x-> 1.0 #x.^2+0.0*sin(20*x)\n",
    "\n",
    "#The vector U stores (u1,u2,u3,cdots, u_(N-1))\n",
    "U=zeros(N-1)\n",
    "\n",
    "#N-2 because we exclude x=0 and X=1.\n",
    "A=spdiagm( (-ones(N-2), 2.0*ones(N-1),-ones(N-2)), [-1,0,1])\n",
    "\n",
    "F=collect(f.(xgrid[2:end-1]))\n",
    "\n",
    "b=F.*Δx^2\n",
    "\n",
    "@time U=-A\\b;\n"
   ]
  },
  {
   "cell_type": "markdown",
   "metadata": {},
   "source": [
    "### Poisson equation in  two and three dimensions\n",
    "\n",
    "$$-(u_{xx}+u_{yy}+u_{zz})=f(x,y,z),~~~0<x,y,z<1$$\n",
    "\n",
    "with zero Dirichlet boundary conditions."
   ]
  },
  {
   "cell_type": "code",
   "execution_count": 24,
   "metadata": {},
   "outputs": [
    {
     "data": {
      "image/png": "[encoded data removed]",
      "text/plain": [
       "PyPlot.Figure(PyObject <matplotlib.figure.Figure object at 0x13fe63250>)"
      ]
     },
     "metadata": {},
     "output_type": "display_data"
    },
    {
     "data": {
      "text/plain": [
       "PyObject <matplotlib.image.AxesImage object at 0x1403ba610>"
      ]
     },
     "execution_count": 24,
     "metadata": {},
     "output_type": "execute_result"
    }
   ],
   "source": [
    "M,N=5,6\n",
    "xgrid=linspace(0,1,M+1)\n",
    "ygrid=linspace(0,1,N+1)\n",
    "Δx=1/M\n",
    "Δy=1/N\n",
    "\n",
    "#assemling the finite different operator for the left hand side of the PDE\n",
    "TM=spdiagm( (-ones(M-2), 2.0*ones(M-1),-ones(M-2)), [-1,0,1])/Δx^2\n",
    "IM=speye(M-1,M-1)\n",
    "\n",
    "TN=spdiagm( (-ones(N-2), 2.0*ones(N-1),-ones(N-2)), [-1,0,1])/Δy^2\n",
    "IN=speye(N-1,N-1)\n",
    "\n",
    "\n",
    "A2=kron(IM,TN)+kron(TM,IN)\n",
    "\n",
    "\n",
    "using PyPlot\n",
    "spy(A2)"
   ]
  },
  {
   "cell_type": "code",
   "execution_count": 2,
   "metadata": {},
   "outputs": [
    {
     "data": {
      "image/png": "[encoded data removed]",
      "text/plain": [
       "PyPlot.Figure(PyObject <matplotlib.figure.Figure object at 0x140161e90>)"
      ]
     },
     "metadata": {},
     "output_type": "display_data"
    },
    {
     "data": {
      "text/plain": [
       "PyObject <matplotlib.image.AxesImage object at 0x14024bc90>"
      ]
     },
     "execution_count": 2,
     "metadata": {},
     "output_type": "execute_result"
    }
   ],
   "source": [
    "xgrid=linspace(0,1,M+1)\n",
    "ygrid=linspace(0,1,N+1)\n",
    "zgrid=linspace(0,1,N+1)\n",
    "\n",
    "f(x,y,z)= x^2+y^2+z^2\n",
    "\n",
    "A3=kron(kron(T,I),I)+ kron(I,kron(I,T))+ kron(kron(I,T),I)\n",
    "\n",
    "size(A3)\n",
    "\n",
    "using PyPlot\n",
    "spy(A3)"
   ]
  },
  {
   "cell_type": "code",
   "execution_count": 3,
   "metadata": {},
   "outputs": [
    {
     "ename": "LoadError",
     "evalue": "\u001b[91mUndefVarError: b not defined\u001b[39m",
     "output_type": "error",
     "traceback": [
      "\u001b[91mUndefVarError: b not defined\u001b[39m",
      "",
      "Stacktrace:",
      " [1] \u001b[1minclude_string\u001b[22m\u001b[22m\u001b[1m(\u001b[22m\u001b[22m::String, ::String\u001b[1m)\u001b[22m\u001b[22m at \u001b[1m./loading.jl:522\u001b[22m\u001b[22m"
     ]
    }
   ],
   "source": [
    "N=50\n",
    "xgrid=linspace(0,1,N+1)\n",
    "Δx=1/N\n",
    "\n",
    "#assemling the finite different operator for the left hand side of the PDE\n",
    "T=spdiagm( (-ones(N-2), 2.0*ones(N-1),-ones(N-2)), [-1,0,1])\n",
    "I=speye(N-1,N-1)\n",
    "\n",
    "A3=kron(kron(T,I),I)+ kron(I,kron(I,T))+ kron(kron(I,T),I)\n",
    "\n",
    "\n",
    "using KrylovMethods\n",
    "\n",
    "@time uu=KrylovMethods.cg(A3, b, tol=1e-10, maxIter=1500, out=1);\n",
    "\n",
    "@time uu=KrylovMethods.cg(A3, b, tol=1e-10, maxIter=1500, out=1);\n",
    "\n",
    "@time uu=KrylovMethods.cg(A3, b, tol=1e-14, maxIter=1500, out=1);\n",
    "\n",
    "size(A3)"
   ]
  },
  {
   "cell_type": "markdown",
   "metadata": {},
   "source": [
    "# Error analysis"
   ]
  },
  {
   "cell_type": "markdown",
   "metadata": {
    "collapsed": true
   },
   "source": [
    "We use the 1D example for discussion about errors and accuracy of the equation:\n",
    "\n",
    "$$ -u_{xx} =f(x),~~~0<x<1,~~~u(0)=u_L, u(1)=u_R$$\n",
    "\n",
    "* Discretize the unit interval: $x_j = jh, j=0,1,2,\\cdots,Nh =1/N$\n",
    "\n",
    "* Approximate the differential equation on the grid nodes:\n",
    "    $$ -u_{xx} (x_j)=f(x_j)$$\n",
    "    is approximated on $x_j$ by\n",
    "    $$(D1)\\,\\,\\,-(u_{j+1}-2u_j+u_{j-1})/h^2 = f(x_j),~~~j=1,2,\\cdots,N-1 $$\n",
    "\n",
    "* Set the boundary conditions: $u_0=u_L, u_N=u_R$.\n",
    "\n",
    "This leads to a linear system to solve: $A_hU=F+b$, where $U=(u_1, u_2,\\cdots,u_{N-1})^\\top$, $F=(f(x_1),f(x_2),\\cdots,f(x_{N-1}))^\\top$, $b=(u_L, 0,\\cdots, u_R)^\\top$. \n",
    "\n",
    "### Local Truncation error\n",
    "\n",
    "* In the finite differences, replace $u_j$ by $u(x_j)$ and $u_{j\\pm1}$ by $u(x_{j\\pm1})$.\n",
    "* Taylor expansion of $u(x_{j\\pm1})=u(x_j\\pm h)$ around $x_j$.\n",
    "* Use the PDE: $u_xx(x_j)=f(x_j)$.\n",
    "\n",
    "We shall find the terms $h^2 \\tau_j$, with $\\tau_j$ related to some mean value of $u_{xxxx}$ such that \n",
    "\n",
    "$$(D2)\\,\\,\\,-(u(x_{j+1})-2u(x_j)+u(x_{j-1}))/h^2 = f(x_j)+h^2\\tau_j.$$\n",
    "\n",
    "$h^2\\tau_j$ is the **local truncation error**.\n",
    "\n",
    "### The error equation\n",
    "\n",
    "Define the error $e_j:= u(x_j)- u_j$ and the error vector $E_h:=(e_1,e_2,\\cdots,d_{N-1})^\\top$.\n",
    "Define $T_u:=(\\tau_1,\\cdots,\\tau_{N-1})^\\top$.\n",
    "\n",
    "Then $(D2)-(D1)\\implies$\n",
    "$$A_h E_h = h^2 T_u,$$\n",
    "and \n",
    "$$||E_h||\\le h^2||A_h^{-1}|| ||T_u||.$$\n",
    "\n",
    "If $|\\tau_j|$ and $||A_h^{-1}||$ are bounded above by some constant that does not depend on $h$, then $E_h\\sim O(h^2).$"
   ]
  },
  {
   "cell_type": "markdown",
   "metadata": {},
   "source": [
    "### Discussion\n",
    "\n",
    "What information can we deduce from the above?\n",
    "\n",
    "* Is there a situation for which the method has no error?\n",
    "* What happens if the evaluation of $f(x_j)$ contains some errors of size $\\delta$?\n",
    "* If we make some errors in approximating the boundary conditions, say in the vector $b$, $u_L$ s replaced by a perturbation of it, $u_L+O(h)$, how would this influence the other of acurracy?\n",
    "* Why do we keep the $h^{-2}$ term in $A_h$?"
   ]
  },
  {
   "cell_type": "code",
   "execution_count": 11,
   "metadata": {},
   "outputs": [
    {
     "name": "stdout",
     "output_type": "stream",
     "text": [
      "||A_h^{-1}|| = 0.101455\n",
      "||A_h^{-1}|| = 0.101355\n",
      "||A_h^{-1}|| = 0.101330\n",
      "||A_h^{-1}|| = 0.101323\n",
      "||A_h^{-1}|| = 0.101322\n",
      "\n",
      "Observe that the values only stays approximately the same after normalization of A by 1/h^2.\n"
     ]
    }
   ],
   "source": [
    "for N in [25, 50, 100, 200, 400]\n",
    "    \n",
    "h=1/N\n",
    "\n",
    "#N-2 because we exclude x=0 and X=1.\n",
    "A=diagm(2.0*ones(N-1), 0)-diagm( ones(N-2), 1)-diagm( ones(N-2), -1)\n",
    "\n",
    "@printf \"||A_h^{-1}|| = %f\\n\" h^2*norm(A^-1)\n",
    "    \n",
    "end\n",
    "\n",
    "println(\"\\nObserve that the values only stays approximately the same after normalization of A by 1/h^2.\")"
   ]
  },
  {
   "cell_type": "code",
   "execution_count": null,
   "metadata": {
    "collapsed": true
   },
   "outputs": [],
   "source": []
  }
 ],
 "metadata": {
  "kernelspec": {
   "display_name": "Julia 0.6.1",
   "language": "julia",
   "name": "julia-0.6"
  },
  "language_info": {
   "file_extension": ".jl",
   "mimetype": "application/julia",
   "name": "julia",
   "version": "0.6.2"
  }
 },
 "nbformat": 4,
 "nbformat_minor": 2
}
