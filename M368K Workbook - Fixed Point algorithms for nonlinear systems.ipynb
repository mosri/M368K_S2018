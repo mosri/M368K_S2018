{
 "cells": [
  {
   "cell_type": "markdown",
   "metadata": {},
   "source": [
    "# Iterative methods for solving nonlinear systems of equations\n",
    "by [Richard Tsai](https://www.researchgate.net/profile/Richard_Tsai3)\n",
    "\n",
    "* Direct generalization of the **fixed-point iterations** for a single equation\n",
    "$$ x_{k+1}:=g(x_k) $$ with $x_k$ being a vector and $g(x_k)$ also. Here, \n",
    "$$g:\\mathbb{R}^d \\mapsto \\mathbb{R}^d.$$\n",
    "\n",
    "* Fixed point of $g$ corresponds to the solution of $f(x)=0$.\n",
    "* Generalization of  **Jacobi** and **Gauss-Seidel** iterations to solve nonlinear systems:\n",
    "\n",
    "* **Newton's method**. Caution: need to solve a linear system at every iteration. \n",
    "\n",
    "    Generally difficult and costly for large systems. \n",
    "    \n",
    "    Try use **quasi-Newton method**."
   ]
  },
  {
   "cell_type": "markdown",
   "metadata": {},
   "source": [
    "# Fixed point iterations for systems of equations\n",
    "\n",
    "Learning objectives:\n",
    "* The existence of a fixed point of $g$. \n",
    "* The convergence theory of the fixed point iterations.\n",
    "* Theorem 10.6 in Burden and Faires covers both issues.\n",
    "* Know how to use Gauss-Seildel iterations to solve nonlinear systems.\n",
    "* Know Newton's method and the quasi-Newton's method, called Broyden's method.\n",
    "* Know how to derive the Jacobian matrix of a given nonlinear equation.\n"
   ]
  },
  {
   "cell_type": "markdown",
   "metadata": {},
   "source": [
    "## Gauss-Seidel iterations for solving nonlinear systems"
   ]
  },
  {
   "cell_type": "markdown",
   "metadata": {},
   "source": [
    "### Example: solving the steady-state viscous Burger's equation\n",
    "\n",
    "$$ uu_x = \\epsilon u_{xx},\\,\\,\\,\\,\\,0<x<1, $$ \n",
    "with boundary conditions\n",
    "$$u(0)=1,\\,\\,u(1)=-1. $$\n",
    "\n",
    "Discretize on a uniform grid with step size $h$.\n",
    "\n",
    "$u(x_j) \\approx u_j $\n",
    "\n",
    "$u_x(x_j) \\approx (u_{j+1}-u_{j-1})/2h $\n",
    "\n",
    "$u_{xx}(x_j) \\approx (u_{j+1}-2u_j+u_{j-1})/h^2 $\n",
    "\n",
    "We are lead to a system involving the unknowns $u_1,u_2,\\cdots, u_{n-1}$ with the boundary conditions $u_0=1$ and $u_n=-1$:\n",
    "\n",
    "$$ u_j \\frac{u_{j+1}-u_{j-1}}{2h} = \\epsilon\\frac{u_{j+1}-2u_j+u_{j-1}}{h^2}, j=1,2,\\cdots,n-1.\\,\\,\\,\\,\\, (P1)$$\n",
    "\n",
    "The above equations can be organized into:\n",
    "$$f(u_1,u_2,\\cdots,u_{n-1})=(f_1(u_1,u_2,\\cdots,u_{n-1}), f_2(u_1,u_2,\\cdots,u_{n-1}),\\cdots, f_{n-1}(u_1,u_2,\\cdots,u_{n-1}))^\\top = 0,$$\n",
    "where\n",
    "$$ f_j(u_1,u_2,\\cdots,u_{n-1}):=u_j \\frac{u_{j+1}-u_{j-1}}{2h} - \\epsilon\\frac{u_{j+1}-2u_j+u_{j-1}}{h^2}.$$\n",
    "\n",
    "In the following, we use Gauss-Seidel iterations to solve this system.\n",
    "\n",
    "Let us first re-arrange the system into a more convenient form:\n",
    " \n",
    "$$ \\left(2\\frac{\\epsilon}{h^2}+\\frac{u_{j+1}^{(k)}-u_{j-1}^{(k)}}{2h}\\right)u_j^{(k+1)} = \\epsilon\\frac{u_{j+1}^{(k)}+u_{j-1}^{(k)}}{h^2} $$\n",
    "\n",
    "We solve for $u_j^{(k+1)}$ by an explicit formula. \n",
    "\n",
    "** In general, you might want to use Newton's method for solve the resulting nonlinear system of equations **\n",
    "\n",
    "### Homework:\n",
    "Derive the Jacobian of the nonlinear system (P1) and solve it by Newton's method."
   ]
  },
  {
   "cell_type": "code",
   "execution_count": 2,
   "metadata": {},
   "outputs": [
    {
     "data": {
      "text/plain": [
       "GaussSeidel_Burgers! (generic function with 1 method)"
      ]
     },
     "execution_count": 2,
     "metadata": {},
     "output_type": "execute_result"
    }
   ],
   "source": [
    "function GaussSeidel_Burgers!(u, h, ϵ, nitrs)\n",
    "    \n",
    "    half_h=h/2.0\n",
    "    \n",
    "    for t=1:nitrs\n",
    "    for j=2:length(u)-1\n",
    "            coeff = (2ϵ+ half_h*(u[j+1]-u[j-1]))\n",
    "            \n",
    "            u[j] = ϵ*(u[j+1]+u[j-1])/coeff\n",
    "    end\n",
    "    end\n",
    "end"
   ]
  },
  {
   "cell_type": "code",
   "execution_count": 40,
   "metadata": {},
   "outputs": [
    {
     "name": "stdout",
     "output_type": "stream",
     "text": [
      "k= 1: 0.000420187392,\t 7.986026111337\n",
      "k= 2: 0.001799711694,\t 5.547493974707\n",
      "k= 3: 0.001214294211,\t 4.130644042113\n",
      "k= 4: 0.001201154148,\t 3.091776803341\n",
      "k="
     ]
    },
    {
     "data": {
      "image/png": "[encoded data removed]",
      "text/plain": [
       "PyPlot.Figure(PyObject <matplotlib.figure.Figure object at 0x13f99c790>)"
      ]
     },
     "metadata": {},
     "output_type": "display_data"
    },
    {
     "name": "stdout",
     "output_type": "stream",
     "text": [
      " 5: 0.000970486365,\t 2.405141480821\n",
      "k= 6: 0.000706687190,\t 0.942200691795\n",
      "k= 7: 0.000110332384,\t 0.116033574832\n",
      "k= 8: 0.000001637596,\t 0.001522042857\n",
      "k= 9: 0.000000000183,\t 0.000000222835\n"
     ]
    },
    {
     "data": {
      "text/plain": [
       "1-element Array{PyCall.PyObject,1}:\n",
       " PyObject <matplotlib.lines.Line2D object at 0x13f9b6dd0>"
      ]
     },
     "execution_count": 40,
     "metadata": {},
     "output_type": "execute_result"
    }
   ],
   "source": [
    "x=linspace(0,1,201)\n",
    "u=zeros(201)\n",
    "\n",
    "h=x[2]-x[1]\n",
    "ϵ=0.0275\n",
    "\n",
    "#specify the boundary conditions\n",
    "u[1]=1.0\n",
    "u[end]=-1.0\n",
    "\n",
    "GaussSeidel_Burgers!(u,h,ϵ,750)\n",
    "\n",
    "plot(x, u)"
   ]
  },
  {
   "cell_type": "markdown",
   "metadata": {},
   "source": [
    "## Newton's method for systems\n",
    "$f:\\mathbb{R}^d \\mapsto \\mathbb{R}^d$; i.e. $f$ maps a vector of $d$ component, x, to a vector of $d$ component, denoted by $f(x_k)$. \n",
    "\n",
    "$f(x_*)=0$. Taylor expansion gives\n",
    "$$f(x_*) = 0=f(x_k)+f^\\prime(x_k)(x_*-x_k)+\\ldots$$\n",
    "\n",
    "Replace $x_*$ by $x_{k+1}$ yields Newton's method:\n",
    "$$ f^\\prime(x_k)(x_{k+1}-x_k))=-f(x_k), $$\n",
    "where  the derivative $f^\\prime(x)$ is a $d\\times d$ matrix.\n",
    "\n",
    "Here, the $g$ function that defines the fixedpoint iterations is: \n",
    "$$ g(x) := x-f^\\prime(x)^{-1} f(x) $$\n",
    "\n",
    "Typical algorithm would do:\n",
    "* Form $A_k:= f^\\prime(x_k)$ (this could be already expensive to compute\n",
    "* Solve $A_k z = -f(x_k)$, and obtain $z$\n",
    "* Update $x_{k+1} := z+x_k$"
   ]
  },
  {
   "cell_type": "code",
   "execution_count": 41,
   "metadata": {},
   "outputs": [
    {
     "data": {
      "text/plain": [
       "Newton! (generic function with 1 method)"
      ]
     },
     "execution_count": 41,
     "metadata": {},
     "output_type": "execute_result"
    }
   ],
   "source": [
    "function Newton!(x, F::Function, JF::Function, h, ϵ; nitrs=10, tol=1e-12)\n",
    "   \n",
    "    for k in 1:nitrs\n",
    "        \n",
    "        f=F(x)\n",
    "        \n",
    "               \n",
    "        if norm(f)<tol\n",
    "           break \n",
    "        end\n",
    "        \n",
    "        #Solve BΔx=-F(x)  for Δx\n",
    "        Δx=-JF(x)\\f\n",
    "\n",
    "        #Update x\n",
    "        x.+=Δx\n",
    "        \n",
    "        @printf \"k=%2d: %1.12f,\\t %1.12f\\n\" k norm(f) norm(Δx)\n",
    "\n",
    "    end\n",
    "end"
   ]
  },
  {
   "cell_type": "markdown",
   "metadata": {
    "collapsed": true
   },
   "source": [
    "# Worked example: Problem 5.22 in Gander-Gander-Kwok\n",
    "\n",
    "* radius of pipe: $r=4$\n",
    "\n",
    "* rope length: $L=30$\n",
    "\n",
    "Find the distance of the pipe to the ceiling above: $h$.\n",
    "\n",
    "## Setting up equations: \n",
    "\n",
    "* Need to variables to describe the system. $h$ and $\\theta$\n",
    "\n",
    "* radius of pipe = r  = $(h+r)\\cos\\theta$\n",
    "\n",
    "* length of rope = L = (length of rope wrapping around the pipe) + (legth of rope in the air) $$L = 2\\left( r(\\pi - \\theta) + (h+r)\\sin\\theta \\right)$$\n",
    "\n",
    "* Obtain two equations: \n",
    "$$f(h,\\theta):=\\left(\\begin{array}{c}\n",
    "f_{1}(h,\\theta)\\\\\n",
    "f_{2}(h,\\theta)\n",
    "\\end{array}\\right)=\\left(\\begin{array}{c}\n",
    "(h+4)\\cos\\theta-4\\\\\n",
    "(h+4)\\sin\\theta+4(\\pi-\\theta)-15\n",
    "\\end{array}\\right)=\\left(\\begin{array}{c}\n",
    "0\\\\\n",
    "0\n",
    "\\end{array}\\right)\n",
    "$$\n",
    "\n",
    "* Derivative of $f$: $$f^{\\prime}(h,\\theta)=\\left(\\begin{array}{cc}\n",
    "\\frac{\\partial f_{1}}{\\partial h} & \\frac{\\partial f_{1}}{\\partial\\theta}\\\\\n",
    "\\frac{\\partial f_{2}}{\\partial h} & \\frac{\\partial f_{2}}{\\partial\\theta}\n",
    "\\end{array}\\right)=\\left(\\begin{array}{cc}\n",
    "\\cos\\theta & -(h+4)\\sin\\theta\\\\\n",
    "\\sin\\theta & (h+4)\\cos\\theta-4\n",
    "\\end{array}\\right)$$"
   ]
  },
  {
   "cell_type": "code",
   "execution_count": null,
   "metadata": {},
   "outputs": [],
   "source": [
    "f(h,θ)  = [ (h+4.0)*cos(θ)-4.0; (h+4.0)*sin(θ)+4.0*(π-θ)-15.0]\n",
    "\n",
    "f′(h,θ) = [cos(θ) -(h+4.0)*sin(θ); sin(θ)  (h+4.0)*cos(θ)-4.0] \n",
    "\n",
    "Newton_prob522(x) = x - f′(x[1],x[2])\\f(x[1],x[2]) #this is not usually how one should run Newton's method"
   ]
  },
  {
   "cell_type": "code",
   "execution_count": null,
   "metadata": {},
   "outputs": [],
   "source": [
    "#x is an array used to store the approximations computed along the iterations\n",
    "#solution at the k-th iteration is x[:,k]\n",
    "#function assumes that x[:,1] is the assigned initial guess\n",
    "function FixedPointItrs!(x::Array{Float64,2}, g)\n",
    "    for k=1:size(x,2)-1\n",
    "        x[:,k+1]=g(x[:,k])\n",
    "    end\n",
    "end\n"
   ]
  },
  {
   "cell_type": "code",
   "execution_count": null,
   "metadata": {},
   "outputs": [],
   "source": [
    "x0=[ 9.0; π/3.0]\n",
    "x=zeros(2, 7)\n",
    "x[:,1]=x0\n",
    "\n",
    "FixedPointItrs!(x,Newton_prob522)\n",
    "\n",
    "x"
   ]
  },
  {
   "cell_type": "code",
   "execution_count": null,
   "metadata": {},
   "outputs": [],
   "source": [
    "println(\"Verify that the equations are solved (f should be essentially 0): f = \", f(x[1, end], x[2,end]))\n",
    "\n",
    "h, θ=x[:, end]\n",
    "\n",
    "if norm(f(x[1, end], x[2,end]))<1e-10\n",
    "    println(\"\\nFound a solution: h=\",round(h,10), \", θ=\", round(θ,10))\n",
    "else\n",
    "    println(\"\\nNewton method fails.\")\n",
    "end"
   ]
  },
  {
   "cell_type": "markdown",
   "metadata": {},
   "source": [
    "### Example: solving the steady-state viscous Burger's equation\n",
    "\n",
    "$$ uu_x = \\epsilon u_{xx},\\,\\,\\,\\,\\,0<x<1, $$ \n",
    "with boundary conditions\n",
    "$$u(0)=1,\\,\\,u(1)=-1. $$\n",
    "\n",
    "We are lead to a system involving the unknowns $u_1,u_2,\\cdots, u_{n-1}$ with the boundary conditions $u_0=1$ and $u_n=-1$:\n",
    "\n",
    "$$ u_j \\frac{u_{j+1}-u_{j-1}}{2h} = \\epsilon\\frac{u_{j+1}-2u_j+u_{j-1}}{h^2}, j=1,2,\\cdots,n-1.\\,\\,\\,\\,\\, (P1)$$\n",
    "\n",
    "The above equations can be organized into:\n",
    "$$f(u_1,u_2,\\cdots,u_{n-1})=(f_1(u_1,u_2,\\cdots,u_{n-1}), f_2(u_1,u_2,\\cdots,u_{n-1}),\\cdots, f_{n-1}(u_1,u_2,\\cdots,u_{n-1}))^\\top = 0,$$\n",
    "where\n",
    "$$ f_j(u_1,u_2,\\cdots,u_{n-1}):=u_j \\frac{u_{j+1}-u_{j-1}}{2h} - \\epsilon\\frac{u_{j+1}-2u_j+u_{j-1}}{h^2}.$$\n",
    "\n",
    "In the following, we use Newton's method to solve this nonlinear system, with initial conditions computed by a few Gauss-Seidel iterations."
   ]
  },
  {
   "cell_type": "code",
   "execution_count": 1,
   "metadata": {},
   "outputs": [
    {
     "data": {
      "text/plain": [
       "JFBurgers (generic function with 1 method)"
      ]
     },
     "execution_count": 1,
     "metadata": {},
     "output_type": "execute_result"
    }
   ],
   "source": [
    "function FBurgers(U, h, ϵ)\n",
    "    \n",
    "    F=copy(U)\n",
    "    \n",
    "    for j=2:length(U)-1\n",
    "        F[j]=h*U[j]*(U[j+1]-U[j-1])/2-ϵ*(U[j+1]-2U[j]+U[j-1])\n",
    "    end\n",
    "    \n",
    "    F[2:end-1]\n",
    "end\n",
    "\n",
    "function JFBurgers(U, h, ϵ) \n",
    "    \n",
    "    JF=zeros(length(U), length(U))\n",
    "    \n",
    "    for j=2:length(U)-1\n",
    "        JF[j,j-1]=-h*U[j]/2-ϵ\n",
    "        JF[j,j]  = h*(U[j+1]-U[j-1])/2+2ϵ \n",
    "        JF[j,j+1]= h*U[j]/2-ϵ    \n",
    "    end\n",
    "    \n",
    "    JF[2:end-1,2:end-1]\n",
    "end\n",
    "\n",
    "function NewtonB!(x, F::Function, JF::Function, h, ϵ; nitrs=10, tol=1e-12)\n",
    "   \n",
    "    for k in 1:nitrs\n",
    "        \n",
    "        f=F(x,h,ϵ)\n",
    "        \n",
    "               \n",
    "        if norm(f)<tol\n",
    "           break \n",
    "        end\n",
    "        \n",
    "        #Solve BΔx=-F(x)  for Δx\n",
    "        Δx=-JF(x,h,ϵ)\\f\n",
    "\n",
    "        #Update x\n",
    "        x[2:end-1].+=Δx\n",
    "        \n",
    "        @printf \"k=%2d: %1.12f,\\t %1.12f\\n\" k norm(f) norm(Δx)\n",
    "\n",
    "    end\n",
    "end"
   ]
  },
  {
   "cell_type": "code",
   "execution_count": null,
   "metadata": {
    "collapsed": true
   },
   "outputs": [],
   "source": [
    "x=linspace(0,1,201)\n",
    "u=zeros(201)\n",
    "\n",
    "h=x[2]-x[1]\n",
    "ϵ=0.0275\n",
    "\n",
    "#specify the boundary conditions\n",
    "u[1]=1.0\n",
    "u[end]=-1.0\n",
    "\n",
    "GaussSeidel_Burgers!(u,h,ϵ,750)\n",
    "\n",
    "plot(x, u)\n",
    "\n",
    "NewtonB!(u, FBurgers, JFBurgers, h, ϵ, tol=1e-14)\n",
    "\n",
    "plot(x, u,\"r\")\n"
   ]
  },
  {
   "cell_type": "markdown",
   "metadata": {},
   "source": [
    "## Gripes about Newton's method\n",
    "\n",
    "* Sensitive to initial guesses\n",
    "* Cost for evaluation of the Jacobian matrix $f^\\prime(x)=(f_1(x),f_2(x),\\cdots,f_N(x))^\\top$ (we also used the notation $Jf(x)$): \n",
    "\n",
    "    For $x\\in \\mathbb{R}^N$, the cost for evaluating $f^\\prime(x)$ ranges from $O(N^2)$, when each component of $f$ depends only on a few components of $x$, to $O(N^3)$, when each component of $f$ depends on all the component of $x$.\n",
    "\n",
    "* Cost for evaluation of $(f^\\prime)^{-1})(x)$ is $O(N^3)$ in general, using Gaussian elimination based direct methods.\n",
    "* The need to do the above two items at every update"
   ]
  },
  {
   "cell_type": "markdown",
   "metadata": {},
   "source": [
    "## A convergence theorem for Newton's method\n",
    "\n",
    "**Theorem**: Let $f:\\mathbb{R}^n\\mapsto \\mathbb{R}^n$ be a $C^1$ function. Let $x^*$ be a solution to $f(x)=0$. Let $||x||$ denotes a vector norm of $x$ and $||A||$ be the associated operator norm for the matrix $A$. \n",
    "\n",
    "Suppose $(f')^{-1}(x)$ exists and that there exist positive constants $C,L$ and $R$ such that\n",
    "\n",
    "$$ ||f'(x^*)||\\le C,\\,\\,\\,\\, ||f'(x)-f'(y)||\\le L||x-y||,\\,\\,\\,\\forall x,y\\in B_R(x^*). $$ \n",
    "\n",
    "There exists $r>0$ such that for any $x_0\\in B_r(x^*)$, the Newton's method yields\n",
    "\n",
    "$$||x^{(k+1)}-x^k||\\le CL\\cdot||x^(k)-x^*||^2.$$"
   ]
  },
  {
   "cell_type": "markdown",
   "metadata": {
    "collapsed": true
   },
   "source": [
    "## Broyden's method -- a quasi-Newton method\n",
    "\n",
    "\n",
    "**Newton's method is too computationally costly because of the evaluation of the Jacobian matrix and inverting it at every step. We can make it cheaper by approximating the Jacobina matrix somehow**\n",
    "\n",
    "* A generalization of the secant method\n",
    "* **Low-rank update of the Jacobian matrix**\n",
    "\n",
    "Notation: $ J(x_n):=\\frac{\\partial f}{\\partial x}(x_n) $\n",
    "\n",
    "(Ignore Burden-Faires. See Wikipedia's description of [Broyden's method](https://en.wikipedia.org/wiki/Broyden%27s_method) )\n",
    "\n",
    "**IDEA 1**: (**Secant method**) Approximate $J(x_n)$ by a matrix $A_n$ along the direction $x_n-x_{n-1}$.\n",
    "\n",
    "\n",
    "$$y_n:=f(x_n)-f(x_{n-1})=:\\Delta f_n,$$\n",
    "\n",
    "$$s_n:=x_n-x_{n-1}=:\\Delta x_n,$$\n",
    "\n",
    "Find $A_n$ such that $$A_n\\Delta x_n = \\Delta f_n\\approx J(x_n)\\Delta x_n.$$\n",
    "\n",
    "**IDEA 2**: Relate $A_n$ to $A_{n-1}$, $x_n$, $x_{n-1}$, $f(x_n)$ and $f(x_{n-1})$.\n",
    "\n",
    "Solve\n",
    "\n",
    "$$ \\min_{A}||A-A_{n-1}||_F\\,\\,s.t.\\,\\, A\\Delta x_n = \\Delta f_n,$$\n",
    "\n",
    "and derive a **low-rank update** formula:\n",
    "\n",
    "$$A_n = A_{n-1}+\\frac{\\Delta f_n-A_{n-1}\\Delta x_n}{|\\Delta x_n|}\\left(\\frac{\\Delta x_n}{|\\Delta x_n|}\\right)^\\top.$$\n",
    "\n",
    "In other words, we have the form $A_n=A_{n-1}+uv^\\top$. **What's low-rank? $uv^\\top$ is a rank-1 matrix.**\n",
    "\n",
    "\n",
    "**IDEA 3**: Sherman-Morrison-Woodbury formula for:\n",
    "\n",
    "**updating $A_n^{-1}$ from $A_{n-1}^{-1}$, $x_n$, $x_{n-1}$, $f(x_n)$ and $f(x_{n-1})$**\n",
    "\n",
    "($B=A_{n-1}$)\n",
    "\n",
    "$$ (B+uv^\\top)^{-1} = \\left(I-wv^\\top\\right)B^{-1},\\,\\,\\, w:=\\frac{(B^{-1}u)}{1+v^\\top B^{-1} u}$$\n",
    "\n",
    "This means\n",
    "\n",
    "$$ A_n^{-1} := \\left(I +  \\frac{ \\Delta x - A_{n-1}^{-1}\\Delta f}{ \\Delta x^\\top A_{n-1}^{-1}\\Delta f  }\\Delta x^\\top\\right)A_{n-1}^{-1}$$\n",
    "\n",
    "(Ignore Burden-Faire. See GGK p155 for more in-depth exposition.)\n",
    "\n",
    "**Superlinear convergence**: $$\\lim_{n\\rightarrow\\infty} \\frac{e_n}{e_{n-1}} =0. $$\n",
    "\n",
    "Learning objectives:\n",
    "* Know the three ideas used in Broyden's method.\n",
    "* Know Sherman-Morrison-Woodbury formula and how to prove it.\n",
    "* Know the computational complexity of Broyden's method, in particular, compared to the straight forward Newton's method.\n",
    "* Know how fast Broyden's method converges."
   ]
  },
  {
   "cell_type": "markdown",
   "metadata": {},
   "source": [
    "### Algorithm 1\n",
    "\n",
    "(Without low-rank update of the inverse of the \"Jacobian\" matrix $A_n$)\n",
    "\n",
    "$$A_n = A_{n-1}+\\frac{\\Delta f_n-A_{n-1}\\Delta x_n}{|\\Delta x_n|}\\left(\\frac{\\Delta x_n}{|\\Delta x_n|}\\right)^\\top.$$\n",
    "\n",
    "Inputs: $A_0, x_0, f(x)$\n",
    "\n",
    "For $n=0,1,2,\\cdots$\n",
    "1. Solve $A_n\\Delta x =-f(x_n)$\n",
    "2. $x_{n+1}:=x_n+\\Delta x$\n",
    "3. $\\Delta f=f(x_{n+1})-f(x_n)$\n",
    "4. Rank-1 update of the Jacobina matrix: $ A_{n+1}:=A_n+\\frac{\\left(\\Delta f-A_n\\Delta x\\right)\\Delta x}{\\Delta x^\\top \\Delta x}$"
   ]
  },
  {
   "cell_type": "code",
   "execution_count": null,
   "metadata": {},
   "outputs": [],
   "source": [
    "function Broyden_QuasiNewton!(x, F::Function, B::Array{Float64}; nitrs=10, tol=1e-12)\n",
    "   \n",
    "    for k in 1:nitrs\n",
    "        f=F(x)\n",
    "\n",
    "        #Solve BΔx=-F(x)  for Δx\n",
    "        Δx=-B\\f\n",
    "\n",
    "        #Update x\n",
    "        x.+=Δx\n",
    "        \n",
    "        #Evaluate F at new x\n",
    "        fnew=F(x)\n",
    "        \n",
    "        if norm(f)>tol\n",
    "            \n",
    "            Δf=fnew.-f\n",
    "            \n",
    "            #rank-1 update of B\n",
    "            B.+= (Δf-B*Δx)*Δx'./(Δx'Δx)\n",
    "        else\n",
    "           break \n",
    "        end\n",
    "        \n",
    "        @printf \"k=%2d: %1.12f,\\t %1.12f\\n\" k norm(f) norm(Δx)\n",
    "    end\n",
    "end"
   ]
  },
  {
   "cell_type": "markdown",
   "metadata": {},
   "source": [
    "### Algorithm 2\n",
    "\n",
    "(Using low rank update on the inverse of the \"Jacobian\" matrix $A_{n}^{-1}$)\n",
    "\n",
    "$$ A_n^{-1} := \\left(I +  \\frac{ \\Delta x - A_{n-1}^{-1}\\Delta f}{ \\Delta x^\\top A_{n-1}^{-1}\\Delta f  }\\Delta x^\\top\\right)A_{n-1}^{-1}$$\n",
    "\n",
    "Inputs: $A_0, x_0, f(x)$"
   ]
  },
  {
   "cell_type": "code",
   "execution_count": null,
   "metadata": {},
   "outputs": [],
   "source": [
    "function Broyden_QuasiNewton2!(x, F::Function, B::Array{Float64}; nitrs=10, tol=1e-12)\n",
    "   \n",
    "    Binv=B^(-1)\n",
    "    for k in 1:nitrs\n",
    "        f=F(x)\n",
    "        \n",
    "        if norm(f)<tol\n",
    "            break\n",
    "        end\n",
    "\n",
    "        #Solve BΔx=-F(x)  for Δx\n",
    "        Δx=-Binv*f\n",
    "\n",
    "        #Update x\n",
    "        x.+=Δx\n",
    "        \n",
    "        #Evaluate F at new x\n",
    "        fnew=F(x)\n",
    "                    \n",
    "        Δf=fnew.-f\n",
    "            \n",
    "        #rank-1 update of Binv\n",
    "        BinvΔf=Binv*Δf\n",
    "        \n",
    "        Binv.+= (Δx-BinvΔf)*Δx'/(Δx'BinvΔf)*Binv\n",
    "        \n",
    "        @printf \"k=%2d: %1.12f,\\t %1.12f\\n\" k norm(f) norm(Δx)\n",
    "    end\n",
    "end"
   ]
  },
  {
   "cell_type": "markdown",
   "metadata": {},
   "source": [
    "#### A simple example"
   ]
  },
  {
   "cell_type": "code",
   "execution_count": null,
   "metadata": {},
   "outputs": [],
   "source": [
    "F(x)=[ x[1]^2+x[2]^2-2.0; exp(x[1]-1.0)+x[2]^3-2.0]\n",
    "\n",
    "JF(x)=[ 2x[1] 2x[2]; exp(x[1]-1.0) 3x[2]^2]\n",
    "\n",
    "x0=[1.5; 2.0]\n",
    "\n",
    "x=copy(x0)\n",
    "A=JF(x)\n",
    "\n",
    "println(\"Newton's method\")\n",
    "@time Newton!(x, F, JF)\n",
    "\n",
    "println()\n",
    "x.=x0\n",
    "println(\"Broyden's method 1\")\n",
    "@time Broyden_QuasiNewton!(x, F, A)\n",
    "\n",
    "println()\n",
    "x.=x0\n",
    "A=JF(x)\n",
    "println(\"Broyden's method 2\")\n",
    "@time Broyden_QuasiNewton2!(x, F, A)"
   ]
  },
  {
   "cell_type": "markdown",
   "metadata": {},
   "source": [
    "For this problem, we see that Algorithm 1 and Algorithm 2 take longer time than Newton's method. When do you expect that they become faster?"
   ]
  },
  {
   "cell_type": "code",
   "execution_count": null,
   "metadata": {
    "collapsed": true
   },
   "outputs": [],
   "source": []
  }
 ],
 "metadata": {
  "anaconda-cloud": {},
  "kernelspec": {
   "display_name": "Julia 0.6.1",
   "language": "julia",
   "name": "julia-0.6"
  },
  "language_info": {
   "file_extension": ".jl",
   "mimetype": "application/julia",
   "name": "julia",
   "version": "0.6.2"
  }
 },
 "nbformat": 4,
 "nbformat_minor": 1
}
